{
  "nbformat": 4,
  "nbformat_minor": 0,
  "metadata": {
    "colab": {
      "provenance": []
    },
    "kernelspec": {
      "name": "python3",
      "display_name": "Python 3"
    },
    "language_info": {
      "name": "python"
    }
  },
  "cells": [
    {
      "cell_type": "code",
      "execution_count": null,
      "metadata": {
        "id": "2zzW7PfJhk5F"
      },
      "outputs": [],
      "source": [
        "!pip install transformers ipython pdfkit"
      ]
    },
    {
      "cell_type": "code",
      "source": [
        "!apt-get install wkhtmltopdf"
      ],
      "metadata": {
        "id": "xBs8jj04nbFJ"
      },
      "execution_count": null,
      "outputs": []
    },
    {
      "cell_type": "code",
      "source": [
        "from transformers import pipeline, set_seed\n",
        "from IPython.display import display, HTML\n",
        "import torch\n",
        "import pdfkit\n",
        "import os"
      ],
      "metadata": {
        "id": "jEe72JkUhsII"
      },
      "execution_count": 33,
      "outputs": []
    },
    {
      "cell_type": "code",
      "source": [
        "from google.colab import drive\n",
        "drive.mount('/content/drive')"
      ],
      "metadata": {
        "colab": {
          "base_uri": "https://localhost:8080/"
        },
        "id": "9hJgujmAihyV",
        "outputId": "3c018561-da89-4bfa-f9ab-80b27f95f290"
      },
      "execution_count": 3,
      "outputs": [
        {
          "output_type": "stream",
          "name": "stdout",
          "text": [
            "Mounted at /content/drive\n"
          ]
        }
      ]
    },
    {
      "cell_type": "code",
      "source": [
        "precision = 'full' # @param [\"half\", \"full\"]\n",
        "if precision == \"half\":\n",
        "    selected_precision = torch.float16\n",
        "elif precision == \"full\":\n",
        "    selected_precision = torch.float32"
      ],
      "metadata": {
        "id": "5dT-brppj7dM"
      },
      "execution_count": 4,
      "outputs": []
    },
    {
      "cell_type": "code",
      "source": [
        "model_name = \"/content/drive/MyDrive/nlp-model/distilgpt2-indo-webtext-mp-fp16\""
      ],
      "metadata": {
        "id": "koV65vxkh_pB"
      },
      "execution_count": 5,
      "outputs": []
    },
    {
      "cell_type": "code",
      "source": [
        "seed = 3693 # @param {type:\"integer\"}\n",
        "set_seed(seed)"
      ],
      "metadata": {
        "id": "Ukh166wYkXzr"
      },
      "execution_count": 6,
      "outputs": []
    },
    {
      "cell_type": "code",
      "source": [
        "generator = pipeline('text-generation',\n",
        "                     model=model_name,\n",
        "                     torch_dtype=selected_precision)"
      ],
      "metadata": {
        "id": "PlBuYD9uiItd"
      },
      "execution_count": 7,
      "outputs": []
    },
    {
      "cell_type": "code",
      "source": [
        "prompt = \"De-escalasi konflik adalah\" # @param {type:\"string\"}"
      ],
      "metadata": {
        "cellView": "form",
        "id": "NIbiNsOUiOMF"
      },
      "execution_count": 30,
      "outputs": []
    },
    {
      "cell_type": "code",
      "source": [
        "preds = generator(prompt,\n",
        "                  max_length=64,\n",
        "                  num_return_sequences=4)"
      ],
      "metadata": {
        "id": "tnPI_MwwixMb"
      },
      "execution_count": 31,
      "outputs": []
    },
    {
      "cell_type": "code",
      "source": [
        "html_code = f\"\"\"\n",
        "<!DOCTYPE html>\n",
        "<html>\n",
        "<head>\n",
        "</head>\n",
        "<body>\n",
        "<p>Prompt: {prompt}</p>\n",
        "<p>seed: {seed}</p>\n",
        "<div style='display: inline-block; border: 2px solid black; padding: 10px; width: 300px; height: 300px; overflow: auto;'>\n",
        "    <p style='font-family: monospace;'>{preds[0]['generated_text']}</p>\n",
        "</div>\n",
        "<div style='display: inline-block; border: 2px solid black; padding: 10px; width: 300px; height: 300px; overflow: auto;'>\n",
        "    <p style='font-family: monospace;'>{preds[1]['generated_text']}</p>\n",
        "</div>\n",
        "<div style='display: inline-block; border: 2px solid black; padding: 10px; width: 300px; height: 300px; overflow: auto;'>\n",
        "    <p style='font-family: monospace;'>{preds[2]['generated_text']}</p>\n",
        "</div>\n",
        "<div style='display: inline-block; border: 2px solid black; padding: 10px; width: 300px; height: 300px; overflow: auto;'>\n",
        "    <p style='font-family: monospace;'>{preds[3]['generated_text']}</p>\n",
        "</div>\n",
        "</body>\n",
        "</html>\n",
        "\"\"\"\n",
        "\n",
        "# Display the styled output\n",
        "display(HTML(html_code))"
      ],
      "metadata": {
        "colab": {
          "base_uri": "https://localhost:8080/",
          "height": 724
        },
        "id": "4g-OH5Dli8vg",
        "outputId": "edccc0d1-553d-4195-ad9d-a6d78da7dd41"
      },
      "execution_count": 32,
      "outputs": [
        {
          "output_type": "display_data",
          "data": {
            "text/plain": [
              "<IPython.core.display.HTML object>"
            ],
            "text/html": [
              "\n",
              "<!DOCTYPE html>\n",
              "<html>\n",
              "<head>\n",
              "</head>\n",
              "<body>\n",
              "<p>Prompt: De-escalasi konflik adalah</p>\n",
              "<p>seed: 3693</p>\n",
              "<div style='display: inline-block; border: 2px solid black; padding: 10px; width: 300px; height: 300px; overflow: auto;'>\n",
              "    <p style='font-family: monospace;'>De-escalasi konflik adalah cara kerja, Pak Gi. Perangkan keluarga kelas kelas mereka, Aditya menemukan perahayaan mereka yang suka. Bagaimana buku cerpen yang mengung jaw</p>\n",
              "</div>\n",
              "<div style='display: inline-block; border: 2px solid black; padding: 10px; width: 300px; height: 300px; overflow: auto;'>\n",
              "    <p style='font-family: monospace;'>De-escalasi konflik adalah bebas yang tak terlebih baik bagi tanpa rintangan. Akhirnya juga melawan fisik, Pak Gi atau sudah yang terjadi pasukan oleh mereka</p>\n",
              "</div>\n",
              "<div style='display: inline-block; border: 2px solid black; padding: 10px; width: 300px; height: 300px; overflow: auto;'>\n",
              "    <p style='font-family: monospace;'>De-escalasi konflik adalah pohon untuk bidang pada karyanya. Darma pohon juga cita-cita-cita itu berada pohon dan kredah. Darma-sama dia sebagai hilang-hari sebag</p>\n",
              "</div>\n",
              "<div style='display: inline-block; border: 2px solid black; padding: 10px; width: 300px; height: 300px; overflow: auto;'>\n",
              "    <p style='font-family: monospace;'>De-escalasi konflik adalah bisa tentang dalam berbagai macam pohon. Dia ingin dalam karena itu, sebagai dapat menggunakan teori yang semakin lainnya. Dia menjadi pohon</p>\n",
              "</div>\n",
              "</body>\n",
              "</html>\n"
            ]
          },
          "metadata": {}
        }
      ]
    },
    {
      "cell_type": "code",
      "source": [
        "base_name = 'output'\n",
        "html_file = f'{base_name}.html'\n",
        "pdf_file = f'{base_name}.pdf'\n",
        "count = 1"
      ],
      "metadata": {
        "id": "-QY5PZngpcde"
      },
      "execution_count": 34,
      "outputs": []
    },
    {
      "cell_type": "code",
      "source": [
        "count = 1  # Start with count 1\n",
        "while True:\n",
        "    html_file = f\"{base_name}_{count}.html\"\n",
        "    if not os.path.exists(html_file):  # Check if file doesn't exist\n",
        "        break  # Exit loop if file doesn't exist (available to write)\n",
        "    count += 1\n",
        "\n",
        "with open(html_file, 'w') as f:\n",
        "    f.write(html_code)\n",
        "print(f\"HTML saved as {html_file}\")"
      ],
      "metadata": {
        "colab": {
          "base_uri": "https://localhost:8080/"
        },
        "id": "NPj2t-vNmzMP",
        "outputId": "22159834-0047-4251-d934-45072d706cd9"
      },
      "execution_count": 41,
      "outputs": [
        {
          "output_type": "stream",
          "name": "stdout",
          "text": [
            "HTML saved as output_2.html\n"
          ]
        }
      ]
    },
    {
      "cell_type": "code",
      "source": [
        "count = 1\n",
        "while True:\n",
        "    html_file = f\"{base_name}_{count}.html\"  # Use .html extension for HTML file\n",
        "    pdf_file = f\"{base_name}_{count}.pdf\"   # Separate variable for PDF filename\n",
        "    if not os.path.exists(pdf_file):  # Check if PDF doesn't exist\n",
        "        break\n",
        "    count += 1\n",
        "\n",
        "pdfkit.from_file(html_file, pdf_file)  # Generate PDF after finding unique filename\n",
        "\n",
        "print(f\"PDF saved as {pdf_file}\")"
      ],
      "metadata": {
        "colab": {
          "base_uri": "https://localhost:8080/"
        },
        "id": "OIQ-cnC0nryv",
        "outputId": "da389836-910c-4e31-df1b-f4381e7b8e60"
      },
      "execution_count": 43,
      "outputs": [
        {
          "output_type": "stream",
          "name": "stdout",
          "text": [
            "PDF saved as output_2.pdf\n"
          ]
        }
      ]
    },
    {
      "cell_type": "code",
      "source": [
        "import os\n",
        "from zipfile import ZipFile\n",
        "\n",
        "def zip_files(directory, zip_name):\n",
        "  \"\"\"\n",
        "  Zips all HTML and PDF files in a directory.\n",
        "\n",
        "  Args:\n",
        "      directory: The directory path containing the files to zip.\n",
        "      zip_name: The name of the output zip file.\n",
        "  \"\"\"\n",
        "  with ZipFile(zip_name, 'w') as zip_file:\n",
        "    for root, _, files in os.walk(directory):\n",
        "      for file in files:\n",
        "        if file.endswith(\".html\") or file.endswith(\".pdf\"):\n",
        "          file_path = os.path.join(root, file)\n",
        "          zip_file.write(file_path, os.path.relpath(file_path, directory))\n",
        "\n",
        "# Replace 'path/to/your/directory' with the actual directory path\n",
        "directory = os.getcwd()\n",
        "zip_name = 'scientific_research_data.zip'\n",
        "\n",
        "zip_files(directory, zip_name)\n",
        "\n",
        "print(f\"Zipped files from '{directory}' to '{zip_name}'.\")"
      ],
      "metadata": {
        "colab": {
          "base_uri": "https://localhost:8080/"
        },
        "id": "GuEHrmHlr1lM",
        "outputId": "e4cebf32-f9c2-462c-cf94-5afb47bce334"
      },
      "execution_count": 44,
      "outputs": [
        {
          "output_type": "stream",
          "name": "stdout",
          "text": [
            "Zipped files from '/content' to 'scientific_research_data.zip'.\n"
          ]
        }
      ]
    }
  ]
}