{
  "nbformat": 4,
  "nbformat_minor": 0,
  "metadata": {
    "colab": {
      "provenance": []
    },
    "kernelspec": {
      "name": "python3",
      "display_name": "Python 3"
    },
    "language_info": {
      "name": "python"
    }
  },
  "cells": [
    {
      "cell_type": "code",
      "source": [
        "from datasets import load_dataset\n",
        "\n",
        "dataset = load_dataset(\"yelp_review_full\")"
      ],
      "metadata": {
        "id": "Vex_eKiJlKC_"
      },
      "execution_count": null,
      "outputs": []
    },
    {
      "cell_type": "code",
      "source": [
        "dataset[\"train\"][\"text\"][599]"
      ],
      "metadata": {
        "id": "KCtzDInftWN_"
      },
      "execution_count": null,
      "outputs": []
    },
    {
      "cell_type": "code",
      "source": [
        "import pandas as pd\n",
        "from nltk.corpus import stopwords\n",
        "from nltk.tokenize import word_tokenize\n",
        "from sklearn.feature_extraction.text import TfidfVectorizer\n",
        "from sklearn.model_selection import train_test_split\n",
        "from sklearn.naive_bayes import MultinomialNB\n",
        "from sklearn.metrics import accuracy_score, classification_report\n",
        "from nltk.stem import WordNetLemmatizer\n",
        "from tqdm import tqdm"
      ],
      "metadata": {
        "id": "Vq81a2EUzQmu"
      },
      "execution_count": 33,
      "outputs": []
    },
    {
      "cell_type": "code",
      "source": [
        "# Assuming your dataset has columns 'label' and 'text'\n",
        "df = pd.DataFrame({'text': dataset['train']['text'], 'label': dataset['train']['label']})\n",
        "\n",
        "df = df[:10000]\n",
        "print(df.count())"
      ],
      "metadata": {
        "colab": {
          "base_uri": "https://localhost:8080/"
        },
        "id": "0kaM0NLc0cqk",
        "outputId": "7d633639-842b-46e8-a15b-64339d8796ac"
      },
      "execution_count": 47,
      "outputs": [
        {
          "output_type": "stream",
          "name": "stdout",
          "text": [
            "text     10000\n",
            "label    10000\n",
            "dtype: int64\n"
          ]
        }
      ]
    },
    {
      "cell_type": "code",
      "source": [
        "nltk.download('stopwords')\n",
        "nltk.download('punkt')\n",
        "nltk.download('wordnet')"
      ],
      "metadata": {
        "id": "oFaoEKya0_Hu"
      },
      "execution_count": null,
      "outputs": []
    },
    {
      "cell_type": "code",
      "source": [
        "# Text preprocessing\n",
        "stop_words = set(stopwords.words('english'))\n",
        "lemmatizer = WordNetLemmatizer()\n",
        "\n",
        "# Define the preprocess_text function\n",
        "def preprocess_text_with_progress(text):\n",
        "    words = word_tokenize(text)\n",
        "    words = [word.lower() for word in words if word.isalpha()]\n",
        "    words = [lemmatizer.lemmatize(word) for word in words]\n",
        "    words = [word for word in words if word not in stop_words]\n",
        "    return ' '.join(words)\n",
        "\n",
        "\n",
        "tqdm.pandas()\n",
        "df['text'] = df['text'].progress_apply(preprocess_text_with_progress)"
      ],
      "metadata": {
        "id": "U56HBS0m0gHe"
      },
      "execution_count": null,
      "outputs": []
    },
    {
      "cell_type": "code",
      "source": [
        "# Feature extraction (TF-IDF)\n",
        "tfidf_vectorizer = TfidfVectorizer()\n",
        "X = tfidf_vectorizer.fit_transform(df['text'])\n",
        "y = df['label']"
      ],
      "metadata": {
        "id": "vgrSWBE12jol"
      },
      "execution_count": 49,
      "outputs": []
    },
    {
      "cell_type": "code",
      "source": [
        "# Split the dataset into a training and testing set\n",
        "X_train, X_test, y_train, y_test = train_test_split(X, y, test_size=0.2, random_state=42)"
      ],
      "metadata": {
        "id": "gbCnOyJX2tg8"
      },
      "execution_count": 50,
      "outputs": []
    },
    {
      "cell_type": "code",
      "source": [
        "# Build and train the model (Naive Bayes)\n",
        "model = MultinomialNB()\n",
        "model.fit(X_train, y_train)"
      ],
      "metadata": {
        "id": "OlV9Av3s2vtk"
      },
      "execution_count": null,
      "outputs": []
    },
    {
      "cell_type": "code",
      "source": [
        "# Make predictions\n",
        "y_pred = model.predict(X_test)"
      ],
      "metadata": {
        "id": "-pfj9WR52_hl"
      },
      "execution_count": 52,
      "outputs": []
    },
    {
      "cell_type": "code",
      "source": [
        "# Evaluate the model\n",
        "accuracy = accuracy_score(y_test, y_pred)\n",
        "report = classification_report(y_test, y_pred)\n",
        "\n",
        "print(f'Accuracy: {accuracy}')\n",
        "print(report)"
      ],
      "metadata": {
        "id": "hGB50L3t3GTF"
      },
      "execution_count": null,
      "outputs": []
    },
    {
      "cell_type": "code",
      "source": [
        "# Assuming you've already trained and saved the model (model) and the vectorizer (tfidf_vectorizer) during training\n",
        "\n",
        "# Sample text to classify\n",
        "input_text = \"Damn this is bad food make my stomach hurt\"\n",
        "\n",
        "# Preprocess the input text\n",
        "input_text = preprocess_text_with_progress(input_text)\n",
        "\n",
        "# Vectorize the input text using the same TF-IDF vectorizer\n",
        "input_vector = tfidf_vectorizer.transform([input_text])\n",
        "\n",
        "# Make predictions\n",
        "predicted_label = model.predict(input_vector)[0]\n",
        "\n",
        "# Print the result\n",
        "if predicted_label == 1:\n",
        "    print(\"Positive Sentiment\")\n",
        "else:\n",
        "    print(\"Negative Sentiment\")"
      ],
      "metadata": {
        "id": "thHACU9u3M7d"
      },
      "execution_count": null,
      "outputs": []
    },
    {
      "cell_type": "code",
      "source": [
        "!pip install transformers"
      ],
      "metadata": {
        "id": "ltEUkrT-5i89"
      },
      "execution_count": null,
      "outputs": []
    },
    {
      "cell_type": "code",
      "source": [
        "!mkdir sentiment_classification"
      ],
      "metadata": {
        "id": "gb4SmC3hHqN2"
      },
      "execution_count": null,
      "outputs": []
    },
    {
      "cell_type": "code",
      "source": [
        "import pickle\n",
        "\n",
        "# Save your NLTK model\n",
        "with open('/sentiment_classification/nltk_sentiment_classification_model.pkl', 'wb') as model_file:\n",
        "    pickle.dump(model, model_file)"
      ],
      "metadata": {
        "id": "yZDtoPcB5jtM"
      },
      "execution_count": 60,
      "outputs": []
    },
    {
      "cell_type": "code",
      "source": [
        "!pip install huggingface_hub"
      ],
      "metadata": {
        "id": "05GFBlwx6exP"
      },
      "execution_count": null,
      "outputs": []
    },
    {
      "cell_type": "code",
      "source": [
        "!huggingface-cli login"
      ],
      "metadata": {
        "id": "gvAUM2QE6i-Q"
      },
      "execution_count": null,
      "outputs": []
    },
    {
      "cell_type": "code",
      "source": [
        "nltk_model_path = '/sentiment_classification/nltk_sentiment_classification_model.pkl'\n",
        "with open(nltk_model_path, 'rb') as model_file:\n",
        "    nltk_model = pickle.load(model_file)\n"
      ],
      "metadata": {
        "id": "Vpq3NAY_6IM-"
      },
      "execution_count": 84,
      "outputs": []
    },
    {
      "cell_type": "code",
      "source": [
        "import torch\n",
        "import pickle"
      ],
      "metadata": {
        "id": "bKp5o2VB9tvl"
      },
      "execution_count": 74,
      "outputs": []
    },
    {
      "cell_type": "code",
      "source": [
        "# Save the NLTK model as a PyTorch model\n",
        "torch.save(nltk_model, '/sentiment_classification/nltk_sentiment_classification_model.pt')"
      ],
      "metadata": {
        "id": "_iLvan2O9d6N"
      },
      "execution_count": 85,
      "outputs": []
    },
    {
      "cell_type": "code",
      "source": [
        "!huggingface-cli upload faizalnf1800/nltk_sentiment_classification /content/sentiment_classification/nltk_sentiment_classification_model.pkl nltk_sentiment_classification_model.pkl"
      ],
      "metadata": {
        "id": "TiPLG_nLEuBW"
      },
      "execution_count": null,
      "outputs": []
    },
    {
      "cell_type": "code",
      "source": [
        "from huggingface_hub import hf_hub_download\n",
        "hf_hub_download(repo_id=\"faizalnf1800/nltk_sentiment_classification\", filename=\"nltk_sentiment_classification_model.pkl\", local_dir=\"/content\")"
      ],
      "metadata": {
        "id": "4q_LfwbHHyBg"
      },
      "execution_count": null,
      "outputs": []
    },
    {
      "cell_type": "code",
      "source": [
        "pickled_model = pickle.load(open('nltk_sentiment_classification_model.pkl', 'rb'))\n",
        "# pickled_model.predict(X_test)\n",
        "\n",
        "# Assuming you've already trained and saved the model (model) and the vectorizer (tfidf_vectorizer) during training\n",
        "\n",
        "# Sample text to classify\n",
        "input_text = \"Damn this is bad food make my stomach hurt\"\n",
        "\n",
        "# Preprocess the input text\n",
        "input_text = preprocess_text_with_progress(input_text)\n",
        "\n",
        "# Vectorize the input text using the same TF-IDF vectorizer\n",
        "input_vector = tfidf_vectorizer.transform([input_text])\n",
        "\n",
        "# Make predictions\n",
        "predicted_label = pickled_model.predict(input_vector)[0]\n",
        "\n",
        "# Print the result\n",
        "if predicted_label == 1:\n",
        "    print(\"Positive Sentiment\")\n",
        "else:\n",
        "    print(\"Negative Sentiment\")"
      ],
      "metadata": {
        "id": "eCxUqu8yImI4"
      },
      "execution_count": null,
      "outputs": []
    }
  ]
}